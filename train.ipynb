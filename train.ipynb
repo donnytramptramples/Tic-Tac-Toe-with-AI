{
 "cells": [
  {
   "cell_type": "code",
   "execution_count": 1,
   "metadata": {
    "collapsed": true,
    "ExecuteTime": {
     "end_time": "2023-09-05T12:34:06.238173600Z",
     "start_time": "2023-09-05T12:34:04.924882Z"
    }
   },
   "outputs": [
    {
     "name": "stdout",
     "output_type": "stream",
     "text": [
      "pygame 2.3.0 (SDL 2.24.2, Python 3.9.0)\n",
      "Hello from the pygame community. https://www.pygame.org/contribute.html\n"
     ]
    }
   ],
   "source": [
    "import time\n",
    "import pygame\n",
    "import sys\n",
    "import game\n",
    "from player import PLayer\n",
    "import pygad\n",
    "import torch\n",
    "import pygad.torchga\n",
    "from model import Model"
   ]
  },
  {
   "cell_type": "code",
   "execution_count": 2,
   "outputs": [],
   "source": [
    "# CONFIG\n",
    "\n",
    "class Config():\n",
    "    NUM_SOLUTIONS = 20\n",
    "    NUM_GENERATIONS = 20\n",
    "    NUM_PARENTS_MATING = 5\n",
    "config = Config()"
   ],
   "metadata": {
    "collapsed": false,
    "ExecuteTime": {
     "end_time": "2023-09-05T12:34:06.253668Z",
     "start_time": "2023-09-05T12:34:06.242665800Z"
    }
   }
  },
  {
   "cell_type": "code",
   "execution_count": 3,
   "outputs": [
    {
     "ename": "TypeError",
     "evalue": "'int' object is not iterable",
     "output_type": "error",
     "traceback": [
      "\u001B[1;31m---------------------------------------------------------------------------\u001B[0m",
      "\u001B[1;31mTypeError\u001B[0m                                 Traceback (most recent call last)",
      "Cell \u001B[1;32mIn[3], line 1\u001B[0m\n\u001B[1;32m----> 1\u001B[0m game \u001B[38;5;241m=\u001B[39m \u001B[43mgame\u001B[49m\u001B[38;5;241;43m.\u001B[39;49m\u001B[43mGame\u001B[49m\u001B[43m(\u001B[49m\u001B[38;5;241;43m1\u001B[39;49m\u001B[43m)\u001B[49m\n",
      "File \u001B[1;32m~\\chromedino\\game.py:27\u001B[0m, in \u001B[0;36mGame.__init__\u001B[1;34m(self, population_weights)\u001B[0m\n\u001B[0;32m     25\u001B[0m \u001B[38;5;28mself\u001B[39m\u001B[38;5;241m.\u001B[39mscreen \u001B[38;5;241m=\u001B[39m pygame\u001B[38;5;241m.\u001B[39mdisplay\u001B[38;5;241m.\u001B[39mset_mode((\u001B[38;5;241m895\u001B[39m, \u001B[38;5;241m600\u001B[39m))\n\u001B[0;32m     26\u001B[0m \u001B[38;5;28mself\u001B[39m\u001B[38;5;241m.\u001B[39mobstacles \u001B[38;5;241m=\u001B[39m [Cactus(\u001B[38;5;28mself\u001B[39m\u001B[38;5;241m.\u001B[39mscreen, \u001B[38;5;241m900\u001B[39m), Cactus(\u001B[38;5;28mself\u001B[39m\u001B[38;5;241m.\u001B[39mscreen, \u001B[38;5;241m1400\u001B[39m)]\n\u001B[1;32m---> 27\u001B[0m \u001B[38;5;28mself\u001B[39m\u001B[38;5;241m.\u001B[39mplayers \u001B[38;5;241m=\u001B[39m [player\u001B[38;5;241m.\u001B[39mPLayer(\u001B[38;5;28mself\u001B[39m, weights) \u001B[38;5;28;01mfor\u001B[39;00m weights \u001B[38;5;129;01min\u001B[39;00m population_weights]\n\u001B[0;32m     28\u001B[0m \u001B[38;5;28mself\u001B[39m\u001B[38;5;241m.\u001B[39mgame_speed \u001B[38;5;241m=\u001B[39m \u001B[38;5;241m0.3\u001B[39m\n",
      "\u001B[1;31mTypeError\u001B[0m: 'int' object is not iterable"
     ]
    }
   ],
   "source": [
    "game = game.Game(1)"
   ],
   "metadata": {
    "collapsed": false,
    "ExecuteTime": {
     "end_time": "2023-09-05T12:34:06.995029800Z",
     "start_time": "2023-09-05T12:34:06.254924100Z"
    }
   }
  },
  {
   "cell_type": "code",
   "execution_count": null,
   "outputs": [],
   "source": [
    "game.players = [PLayer(torch.tensor([0 for i in range(121)]))for j in range(config.NUM_SOLUTIONS)]\n",
    "model = Model()\n",
    "torch_ga = pygad.torchga.TorchGA(model=model, num_solutions=10)\n",
    "initial_population = torch_ga.population_weights"
   ],
   "metadata": {
    "collapsed": false
   }
  },
  {
   "cell_type": "code",
   "execution_count": null,
   "outputs": [],
   "source": [
    "def fitness_function(ga_instance ,solution, solution_index):\n",
    "    player = PLayer(game, weights=solution)\n",
    "    player.control()\n",
    "    player.draw()\n",
    "    for object in game.obstacles:\n",
    "        if object.rect.colliderect(player.rect):\n",
    "            fitness = player.score\n",
    "            return fitness\n",
    "\n",
    "    game.generate_world()\n",
    "    pygame.display.update()\n"
   ],
   "metadata": {
    "collapsed": false
   }
  },
  {
   "cell_type": "code",
   "execution_count": null,
   "outputs": [],
   "source": [
    "def callback_generation(ga_instance):\n",
    "    print(\"Generation = {generation}\".format(generation=ga_instance.generations_completed))\n",
    "    print(\"Fitness    = {fitness}\".format(fitness=ga_instance.best_solution()[1]))"
   ],
   "metadata": {
    "collapsed": false
   }
  },
  {
   "cell_type": "code",
   "execution_count": null,
   "outputs": [],
   "source": [
    "ga_instance = pygad.GA(num_generations=config.NUM_GENERATIONS,\n",
    "                       num_parents_mating=config.NUM_PARENTS_MATING,\n",
    "                       initial_population=initial_population,\n",
    "                       fitness_func=fitness_function,\n",
    "                       on_generation=callback_generation)"
   ],
   "metadata": {
    "collapsed": false
   }
  }
 ],
 "metadata": {
  "kernelspec": {
   "display_name": "Python 3",
   "language": "python",
   "name": "python3"
  },
  "language_info": {
   "codemirror_mode": {
    "name": "ipython",
    "version": 2
   },
   "file_extension": ".py",
   "mimetype": "text/x-python",
   "name": "python",
   "nbconvert_exporter": "python",
   "pygments_lexer": "ipython2",
   "version": "2.7.6"
  }
 },
 "nbformat": 4,
 "nbformat_minor": 0
}
